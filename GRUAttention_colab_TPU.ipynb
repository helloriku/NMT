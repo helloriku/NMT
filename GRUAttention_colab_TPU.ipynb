{
  "nbformat": 4,
  "nbformat_minor": 0,
  "metadata": {
    "kernelspec": {
      "name": "python3",
      "display_name": "Python 3",
      "language": "python"
    },
    "language_info": {
      "name": "python",
      "version": "3.7.6",
      "mimetype": "text/x-python",
      "codemirror_mode": {
        "name": "ipython",
        "version": 3
      },
      "pygments_lexer": "ipython3",
      "nbconvert_exporter": "python",
      "file_extension": ".py"
    },
    "colab": {
      "name": "TPU_dist.ipynb",
      "provenance": [],
      "collapsed_sections": []
    },
    "accelerator": "TPU"
  },
  "cells": [
    {
      "cell_type": "code",
      "metadata": {
        "id": "UXkBSpVSK6gi",
        "colab_type": "code",
        "colab": {
          "base_uri": "https://localhost:8080/",
          "height": 756
        },
        "outputId": "26c1b83c-4af9-4cc1-bb69-2eac81172ec9"
      },
      "source": [
        "%tensorflow_version 2.x\n",
        "import tensorflow as tf\n",
        "print(\"Tensorflow version \" + tf.__version__)\n",
        "try:\n",
        "  tpu = tf.distribute.cluster_resolver.TPUClusterResolver()  # TPU detection\n",
        "  print('Running on TPU ', tpu.cluster_spec().as_dict()['worker'])\n",
        "except ValueError:\n",
        "  raise BaseException('ERROR: Not connected to a TPU runtime; please see the previous cell in this notebook for instructions!')\n",
        "\n",
        "tf.config.experimental_connect_to_cluster(tpu)\n",
        "tf.tpu.experimental.initialize_tpu_system(tpu)\n",
        "tpu_strategy = tf.distribute.experimental.TPUStrategy(tpu)"
      ],
      "execution_count": 1,
      "outputs": [
        {
          "output_type": "stream",
          "text": [
            "Tensorflow version 2.2.0\n",
            "Running on TPU  ['10.106.67.34:8470']\n",
            "INFO:tensorflow:Initializing the TPU system: grpc://10.106.67.34:8470\n"
          ],
          "name": "stdout"
        },
        {
          "output_type": "stream",
          "text": [
            "INFO:tensorflow:Initializing the TPU system: grpc://10.106.67.34:8470\n"
          ],
          "name": "stderr"
        },
        {
          "output_type": "stream",
          "text": [
            "INFO:tensorflow:Clearing out eager caches\n"
          ],
          "name": "stdout"
        },
        {
          "output_type": "stream",
          "text": [
            "INFO:tensorflow:Clearing out eager caches\n"
          ],
          "name": "stderr"
        },
        {
          "output_type": "stream",
          "text": [
            "INFO:tensorflow:Finished initializing TPU system.\n"
          ],
          "name": "stdout"
        },
        {
          "output_type": "stream",
          "text": [
            "INFO:tensorflow:Finished initializing TPU system.\n"
          ],
          "name": "stderr"
        },
        {
          "output_type": "stream",
          "text": [
            "INFO:tensorflow:Found TPU system:\n"
          ],
          "name": "stdout"
        },
        {
          "output_type": "stream",
          "text": [
            "INFO:tensorflow:Found TPU system:\n"
          ],
          "name": "stderr"
        },
        {
          "output_type": "stream",
          "text": [
            "INFO:tensorflow:*** Num TPU Cores: 8\n"
          ],
          "name": "stdout"
        },
        {
          "output_type": "stream",
          "text": [
            "INFO:tensorflow:*** Num TPU Cores: 8\n"
          ],
          "name": "stderr"
        },
        {
          "output_type": "stream",
          "text": [
            "INFO:tensorflow:*** Num TPU Workers: 1\n"
          ],
          "name": "stdout"
        },
        {
          "output_type": "stream",
          "text": [
            "INFO:tensorflow:*** Num TPU Workers: 1\n"
          ],
          "name": "stderr"
        },
        {
          "output_type": "stream",
          "text": [
            "INFO:tensorflow:*** Num TPU Cores Per Worker: 8\n"
          ],
          "name": "stdout"
        },
        {
          "output_type": "stream",
          "text": [
            "INFO:tensorflow:*** Num TPU Cores Per Worker: 8\n"
          ],
          "name": "stderr"
        },
        {
          "output_type": "stream",
          "text": [
            "INFO:tensorflow:*** Available Device: _DeviceAttributes(/job:localhost/replica:0/task:0/device:CPU:0, CPU, 0, 0)\n"
          ],
          "name": "stdout"
        },
        {
          "output_type": "stream",
          "text": [
            "INFO:tensorflow:*** Available Device: _DeviceAttributes(/job:localhost/replica:0/task:0/device:CPU:0, CPU, 0, 0)\n"
          ],
          "name": "stderr"
        },
        {
          "output_type": "stream",
          "text": [
            "INFO:tensorflow:*** Available Device: _DeviceAttributes(/job:localhost/replica:0/task:0/device:XLA_CPU:0, XLA_CPU, 0, 0)\n"
          ],
          "name": "stdout"
        },
        {
          "output_type": "stream",
          "text": [
            "INFO:tensorflow:*** Available Device: _DeviceAttributes(/job:localhost/replica:0/task:0/device:XLA_CPU:0, XLA_CPU, 0, 0)\n"
          ],
          "name": "stderr"
        },
        {
          "output_type": "stream",
          "text": [
            "INFO:tensorflow:*** Available Device: _DeviceAttributes(/job:worker/replica:0/task:0/device:CPU:0, CPU, 0, 0)\n"
          ],
          "name": "stdout"
        },
        {
          "output_type": "stream",
          "text": [
            "INFO:tensorflow:*** Available Device: _DeviceAttributes(/job:worker/replica:0/task:0/device:CPU:0, CPU, 0, 0)\n"
          ],
          "name": "stderr"
        },
        {
          "output_type": "stream",
          "text": [
            "INFO:tensorflow:*** Available Device: _DeviceAttributes(/job:worker/replica:0/task:0/device:TPU:0, TPU, 0, 0)\n"
          ],
          "name": "stdout"
        },
        {
          "output_type": "stream",
          "text": [
            "INFO:tensorflow:*** Available Device: _DeviceAttributes(/job:worker/replica:0/task:0/device:TPU:0, TPU, 0, 0)\n"
          ],
          "name": "stderr"
        },
        {
          "output_type": "stream",
          "text": [
            "INFO:tensorflow:*** Available Device: _DeviceAttributes(/job:worker/replica:0/task:0/device:TPU:1, TPU, 0, 0)\n"
          ],
          "name": "stdout"
        },
        {
          "output_type": "stream",
          "text": [
            "INFO:tensorflow:*** Available Device: _DeviceAttributes(/job:worker/replica:0/task:0/device:TPU:1, TPU, 0, 0)\n"
          ],
          "name": "stderr"
        },
        {
          "output_type": "stream",
          "text": [
            "INFO:tensorflow:*** Available Device: _DeviceAttributes(/job:worker/replica:0/task:0/device:TPU:2, TPU, 0, 0)\n"
          ],
          "name": "stdout"
        },
        {
          "output_type": "stream",
          "text": [
            "INFO:tensorflow:*** Available Device: _DeviceAttributes(/job:worker/replica:0/task:0/device:TPU:2, TPU, 0, 0)\n"
          ],
          "name": "stderr"
        },
        {
          "output_type": "stream",
          "text": [
            "INFO:tensorflow:*** Available Device: _DeviceAttributes(/job:worker/replica:0/task:0/device:TPU:3, TPU, 0, 0)\n"
          ],
          "name": "stdout"
        },
        {
          "output_type": "stream",
          "text": [
            "INFO:tensorflow:*** Available Device: _DeviceAttributes(/job:worker/replica:0/task:0/device:TPU:3, TPU, 0, 0)\n"
          ],
          "name": "stderr"
        },
        {
          "output_type": "stream",
          "text": [
            "INFO:tensorflow:*** Available Device: _DeviceAttributes(/job:worker/replica:0/task:0/device:TPU:4, TPU, 0, 0)\n"
          ],
          "name": "stdout"
        },
        {
          "output_type": "stream",
          "text": [
            "INFO:tensorflow:*** Available Device: _DeviceAttributes(/job:worker/replica:0/task:0/device:TPU:4, TPU, 0, 0)\n"
          ],
          "name": "stderr"
        },
        {
          "output_type": "stream",
          "text": [
            "INFO:tensorflow:*** Available Device: _DeviceAttributes(/job:worker/replica:0/task:0/device:TPU:5, TPU, 0, 0)\n"
          ],
          "name": "stdout"
        },
        {
          "output_type": "stream",
          "text": [
            "INFO:tensorflow:*** Available Device: _DeviceAttributes(/job:worker/replica:0/task:0/device:TPU:5, TPU, 0, 0)\n"
          ],
          "name": "stderr"
        },
        {
          "output_type": "stream",
          "text": [
            "INFO:tensorflow:*** Available Device: _DeviceAttributes(/job:worker/replica:0/task:0/device:TPU:6, TPU, 0, 0)\n"
          ],
          "name": "stdout"
        },
        {
          "output_type": "stream",
          "text": [
            "INFO:tensorflow:*** Available Device: _DeviceAttributes(/job:worker/replica:0/task:0/device:TPU:6, TPU, 0, 0)\n"
          ],
          "name": "stderr"
        },
        {
          "output_type": "stream",
          "text": [
            "INFO:tensorflow:*** Available Device: _DeviceAttributes(/job:worker/replica:0/task:0/device:TPU:7, TPU, 0, 0)\n"
          ],
          "name": "stdout"
        },
        {
          "output_type": "stream",
          "text": [
            "INFO:tensorflow:*** Available Device: _DeviceAttributes(/job:worker/replica:0/task:0/device:TPU:7, TPU, 0, 0)\n"
          ],
          "name": "stderr"
        },
        {
          "output_type": "stream",
          "text": [
            "INFO:tensorflow:*** Available Device: _DeviceAttributes(/job:worker/replica:0/task:0/device:TPU_SYSTEM:0, TPU_SYSTEM, 0, 0)\n"
          ],
          "name": "stdout"
        },
        {
          "output_type": "stream",
          "text": [
            "INFO:tensorflow:*** Available Device: _DeviceAttributes(/job:worker/replica:0/task:0/device:TPU_SYSTEM:0, TPU_SYSTEM, 0, 0)\n"
          ],
          "name": "stderr"
        },
        {
          "output_type": "stream",
          "text": [
            "INFO:tensorflow:*** Available Device: _DeviceAttributes(/job:worker/replica:0/task:0/device:XLA_CPU:0, XLA_CPU, 0, 0)\n"
          ],
          "name": "stdout"
        },
        {
          "output_type": "stream",
          "text": [
            "INFO:tensorflow:*** Available Device: _DeviceAttributes(/job:worker/replica:0/task:0/device:XLA_CPU:0, XLA_CPU, 0, 0)\n"
          ],
          "name": "stderr"
        }
      ]
    },
    {
      "cell_type": "code",
      "metadata": {
        "trusted": true,
        "id": "oZdsxDYmK5KA",
        "colab_type": "code",
        "colab": {
          "base_uri": "https://localhost:8080/",
          "height": 34
        },
        "outputId": "d7f8b4ea-28e8-4806-e462-8b55a0d8e67f"
      },
      "source": [
        "import numpy as np\n",
        "import pandas as pd \n",
        "import os\n",
        "import time\n",
        "import matplotlib.pyplot as plt\n",
        "print(tf.__version__)\n",
        "AUTO = tf.data.experimental.AUTOTUNE"
      ],
      "execution_count": 2,
      "outputs": [
        {
          "output_type": "stream",
          "text": [
            "2.2.0\n"
          ],
          "name": "stdout"
        }
      ]
    },
    {
      "cell_type": "code",
      "metadata": {
        "id": "VKSbVMtKMd7N",
        "colab_type": "code",
        "colab": {
          "base_uri": "https://localhost:8080/",
          "height": 34
        },
        "outputId": "1b4b5396-e6c1-4432-8c21-efab28262408"
      },
      "source": [
        "# Load the Drive helper and mount\n",
        "from google.colab import drive\n",
        "\n",
        "# This will prompt for authorization.\n",
        "drive.mount('/content/drive')"
      ],
      "execution_count": 3,
      "outputs": [
        {
          "output_type": "stream",
          "text": [
            "Drive already mounted at /content/drive; to attempt to forcibly remount, call drive.mount(\"/content/drive\", force_remount=True).\n"
          ],
          "name": "stdout"
        }
      ]
    },
    {
      "cell_type": "code",
      "metadata": {
        "id": "Y_AjVdL3NLQ-",
        "colab_type": "code",
        "colab": {
          "base_uri": "https://localhost:8080/",
          "height": 34
        },
        "outputId": "36b7c3a2-6209-4390-e1d9-38683a4522be"
      },
      "source": [
        "!ls /content/drive/'My Drive'/'Colab Notebooks'"
      ],
      "execution_count": 4,
      "outputs": [
        {
          "output_type": "stream",
          "text": [
            "'Chinese-English MT'   TPU_dist.ipynb   Untitled0.ipynb\n"
          ],
          "name": "stdout"
        }
      ]
    },
    {
      "cell_type": "code",
      "metadata": {
        "id": "WJxA9WPuON0l",
        "colab_type": "code",
        "colab": {}
      },
      "source": [
        "data_dir = \"/content/drive/My Drive/Colab Notebooks/Chinese-English MT\""
      ],
      "execution_count": 5,
      "outputs": []
    },
    {
      "cell_type": "markdown",
      "metadata": {
        "id": "WTTtGWKXK5KM",
        "colab_type": "text"
      },
      "source": [
        "# 构建词汇表"
      ]
    },
    {
      "cell_type": "code",
      "metadata": {
        "trusted": true,
        "id": "OW146DbpK5KN",
        "colab_type": "code",
        "colab": {}
      },
      "source": [
        "\n",
        "# 数据集已预处理好词汇表\n",
        "def build_wordlist(path):\n",
        "    word2id = {}\n",
        "    id2word = {}\n",
        "    with open(path, encoding = 'utf-8') as f:\n",
        "        for line,word in enumerate(f):\n",
        "            word2id[word.strip()] = line\n",
        "            id2word[line] = word.strip()\n",
        "    return word2id,id2word\n",
        "    "
      ],
      "execution_count": 6,
      "outputs": []
    },
    {
      "cell_type": "code",
      "metadata": {
        "trusted": true,
        "id": "gcixr8sKK5KQ",
        "colab_type": "code",
        "colab": {}
      },
      "source": [
        "word2id_zh, id2word_zh = build_wordlist(data_dir + '/vocab.zh')\n",
        "word2id_en, id2word_en = build_wordlist(data_dir + '/vocab.en')"
      ],
      "execution_count": 7,
      "outputs": []
    },
    {
      "cell_type": "code",
      "metadata": {
        "trusted": true,
        "id": "exEBgBnsK5KT",
        "colab_type": "code",
        "colab": {
          "base_uri": "https://localhost:8080/",
          "height": 34
        },
        "outputId": "60135e1e-cf7e-4ddd-b536-7ad6b00fe6e8"
      },
      "source": [
        "len(word2id_zh)"
      ],
      "execution_count": 8,
      "outputs": [
        {
          "output_type": "execute_result",
          "data": {
            "text/plain": [
              "53712"
            ]
          },
          "metadata": {
            "tags": []
          },
          "execution_count": 8
        }
      ]
    },
    {
      "cell_type": "code",
      "metadata": {
        "id": "FbEDmXfuLlim",
        "colab_type": "code",
        "colab": {
          "base_uri": "https://localhost:8080/",
          "height": 34
        },
        "outputId": "10c35563-924c-42fd-c719-472de1fa83ca"
      },
      "source": [
        "len(word2id_en)"
      ],
      "execution_count": 9,
      "outputs": [
        {
          "output_type": "execute_result",
          "data": {
            "text/plain": [
              "35028"
            ]
          },
          "metadata": {
            "tags": []
          },
          "execution_count": 9
        }
      ]
    },
    {
      "cell_type": "markdown",
      "metadata": {
        "id": "yqAekFrpK5KX",
        "colab_type": "text"
      },
      "source": [
        "# 构建训练集"
      ]
    },
    {
      "cell_type": "markdown",
      "metadata": {
        "id": "jgq0zzhGK5KX",
        "colab_type": "text"
      },
      "source": [
        "## 统计样本长度分布"
      ]
    },
    {
      "cell_type": "code",
      "metadata": {
        "trusted": true,
        "id": "iXs799gKK5KY",
        "colab_type": "code",
        "colab": {}
      },
      "source": [
        "#统计训练样本词汇个数分布\n",
        "def words_count(path):\n",
        "    num_words = []\n",
        "    with open(path, encoding = 'utf-8') as f:\n",
        "        for line in f.readlines():\n",
        "            sp = line.strip().split()\n",
        "            num_words.append(len(sp))\n",
        "    return num_words"
      ],
      "execution_count": 10,
      "outputs": []
    },
    {
      "cell_type": "code",
      "metadata": {
        "trusted": true,
        "id": "wL3oUFRzK5Kb",
        "colab_type": "code",
        "colab": {
          "base_uri": "https://localhost:8080/",
          "height": 295
        },
        "outputId": "1c102236-b2fc-452c-cfa2-e187962ad1cf"
      },
      "source": [
        "num_words_zh = words_count(data_dir + '/train.zh') + words_count(data_dir + '/dev.zh')\n",
        "\n",
        "plt.hist(num_words_zh, bins=200)\n",
        "plt.xlim(0, 65)\n",
        "plt.ylabel(\"number of zh words\")\n",
        "plt.xlabel(\"length of zh words\")\n",
        "plt.title(\"Distribution of zh words length\")\n",
        "plt.show()"
      ],
      "execution_count": 11,
      "outputs": [
        {
          "output_type": "display_data",
          "data": {
            "image/png": "[encoded data removed]",
            "text/plain": [
              "<Figure size 432x288 with 1 Axes>"
            ]
          },
          "metadata": {
            "tags": [],
            "needs_background": "light"
          }
        }
      ]
    },
    {
      "cell_type": "code",
      "metadata": {
        "trusted": true,
        "id": "TxWyGENzK5Kd",
        "colab_type": "code",
        "colab": {
          "base_uri": "https://localhost:8080/",
          "height": 295
        },
        "outputId": "01cb4a60-0eea-4037-d0fb-c8ee1e359bbe"
      },
      "source": [
        "num_words_en = words_count(data_dir + '/train.en') + words_count(data_dir + '/dev.en')\n",
        "\n",
        "plt.hist(num_words_en, bins=200)\n",
        "plt.xlim(0, 65)\n",
        "plt.ylabel(\"number of en words\")\n",
        "plt.xlabel(\"length of en words\")\n",
        "plt.title(\"Distribution of en words length\")\n",
        "plt.show()"
      ],
      "execution_count": 12,
      "outputs": [
        {
          "output_type": "display_data",
          "data": {
            "image/png": "[encoded data removed]",
            "text/plain": [
              "<Figure size 432x288 with 1 Axes>"
            ]
          },
          "metadata": {
            "tags": [],
            "needs_background": "light"
          }
        }
      ]
    },
    {
      "cell_type": "markdown",
      "metadata": {
        "id": "WWmubxq6K5Kf",
        "colab_type": "text"
      },
      "source": [
        "## 训练集生成"
      ]
    },
    {
      "cell_type": "code",
      "metadata": {
        "trusted": true,
        "id": "96kGDOdpK5Kg",
        "colab_type": "code",
        "colab": {}
      },
      "source": [
        "max_len_en = 60\n",
        "max_len_zh = 50\n",
        "# 分布式训练，全局批大小\n",
        "batch_size = 128\n",
        "global_batch_size = batch_size * tpu_strategy.num_replicas_in_sync"
      ],
      "execution_count": 13,
      "outputs": []
    },
    {
      "cell_type": "code",
      "metadata": {
        "trusted": true,
        "id": "bWZsO51IK5Ki",
        "colab_type": "code",
        "colab": {
          "base_uri": "https://localhost:8080/",
          "height": 69
        },
        "outputId": "44a00139-5890-4a7e-9f4c-b215ff97099e"
      },
      "source": [
        "\n",
        "#统计数据集大小\n",
        "def data_count(path):    \n",
        "    with open(path,'rb') as f:\n",
        "        #统计 \\n 个数（行数）\n",
        "        count = 0\n",
        "        while True:\n",
        "            buffer = f.read(8192*1024)\n",
        "            if not buffer:\n",
        "                break\n",
        "            count += buffer.count(bytes(\"\\n\", encoding=\"utf-8\"))\n",
        "        f.close()\n",
        "        return count\n",
        "    \n",
        "count_train = data_count(data_dir + '/train.zh')\n",
        "count_val = data_count(data_dir + '/dev.zh')\n",
        "count_test = data_count(data_dir + '/test.zh')\n",
        "print(\"训练集个数：\",count_train)\n",
        "print(\"验证集个数：\",count_val)\n",
        "print(\"测试集个数：\",count_test)"
      ],
      "execution_count": 14,
      "outputs": [
        {
          "output_type": "stream",
          "text": [
            "训练集个数： 100000\n",
            "验证集个数： 400\n",
            "测试集个数： 400\n"
          ],
          "name": "stdout"
        }
      ]
    },
    {
      "cell_type": "code",
      "metadata": {
        "id": "OUpVFI51CF4D",
        "colab_type": "code",
        "colab": {}
      },
      "source": [
        "    # 开始和结束标记\n",
        "def preprocess_sentence(w):\n",
        "  w = '<s> ' + w + ' </s>'\n",
        "  return w"
      ],
      "execution_count": 15,
      "outputs": []
    },
    {
      "cell_type": "code",
      "metadata": {
        "trusted": true,
        "id": "AMhqIuKIK5Kk",
        "colab_type": "code",
        "colab": {}
      },
      "source": [
        "\n",
        "# 添加开始和结束标记，并填充至maxlen\n",
        "def pad_data(path, mxlen, zh = 1):\n",
        "    X = []\n",
        "    with open(path, encoding = 'utf-8') as f:\n",
        "        for line in f.readlines():\n",
        "            st = line.strip('\\n') #去除\\n等\n",
        "            w = preprocess_sentence(st) # 添加开始结束标记\n",
        "            sp = w.split() # 分割为列表\n",
        "            if not sp:\n",
        "                continue\n",
        "\n",
        "            x = [0] * mxlen\n",
        "            # 开始标记\n",
        "            index = 0\n",
        "            for word in sp:\n",
        "                # 控制最大长度\n",
        "                if index < mxlen:\n",
        "                    if zh == 1:\n",
        "                        if word in word2id_zh:\n",
        "                            x[index] = word2id_zh[word]\n",
        "                            index += 1\n",
        "                    else:\n",
        "                        if word in word2id_en:\n",
        "                            x[index] = word2id_en[word]\n",
        "                            index += 1\n",
        "                else:\n",
        "                    break\n",
        "            X.append(x)\n",
        "    X = np.array(X)\n",
        "    return X\n",
        "\n"
      ],
      "execution_count": 16,
      "outputs": []
    },
    {
      "cell_type": "code",
      "metadata": {
        "id": "uOIUSmkXmrB2",
        "colab_type": "code",
        "colab": {}
      },
      "source": [
        "train_zh = pad_data(data_dir + '/train.zh', mxlen=max_len_zh, zh = 1)\n",
        "train_en = pad_data(data_dir + '/train.en', mxlen=max_len_en, zh = 0)\n",
        "val_zh = pad_data(data_dir + '/dev.zh', mxlen=max_len_zh, zh = 1)\n",
        "val_en = pad_data(data_dir + '/dev.en', mxlen=max_len_en, zh = 0)\n",
        "test_zh = pad_data(data_dir + '/test.zh', mxlen=max_len_zh, zh = 1)\n",
        "test_en = pad_data(data_dir + '/test.en', mxlen=max_len_en, zh = 0)"
      ],
      "execution_count": 17,
      "outputs": []
    },
    {
      "cell_type": "code",
      "metadata": {
        "id": "_hxGwo6SGN_9",
        "colab_type": "code",
        "colab": {
          "base_uri": "https://localhost:8080/",
          "height": 105
        },
        "outputId": "4be29296-6ad6-47f0-d0ac-58286faeb87a"
      },
      "source": [
        "print(test_zh[0])"
      ],
      "execution_count": 18,
      "outputs": [
        {
          "output_type": "stream",
          "text": [
            "[    1    66    24    11    32  2535 49862     4     3   659  1469     3\n",
            "  6059 14607     3  1594     4  1532   177  2071    27     4   155    28\n",
            "   229   449     4   734     5     2     0     0     0     0     0     0\n",
            "     0     0     0     0     0     0     0     0     0     0     0     0\n",
            "     0     0]\n"
          ],
          "name": "stdout"
        }
      ]
    },
    {
      "cell_type": "code",
      "metadata": {
        "id": "l5UDPtqpNZZE",
        "colab_type": "code",
        "colab": {
          "base_uri": "https://localhost:8080/",
          "height": 105
        },
        "outputId": "0e48511b-0f68-4028-df6a-9e9014a4792a"
      },
      "source": [
        "print(test_en[0])"
      ],
      "execution_count": 19,
      "outputs": [
        {
          "output_type": "stream",
          "text": [
            "[   1   82   36   13   11   11 2741 3756  111 7660   34    3 4512    9\n",
            "    3  653    6 2140   83   60 3672 3088   13    8  113    3  672 1549\n",
            "  550   17    3   62   15  186    7    2    0    0    0    0    0    0\n",
            "    0    0    0    0    0    0    0    0    0    0    0    0    0    0\n",
            "    0    0    0    0]\n"
          ],
          "name": "stdout"
        }
      ]
    },
    {
      "cell_type": "markdown",
      "metadata": {
        "id": "kFycgx0r4zfu",
        "colab_type": "text"
      },
      "source": [
        "zh2en"
      ]
    },
    {
      "cell_type": "code",
      "metadata": {
        "trusted": true,
        "id": "yP3I0gltK5Km",
        "colab_type": "code",
        "colab": {}
      },
      "source": [
        "train_zh2en =  tf.data.Dataset.from_tensor_slices((train_zh, train_en)).shuffle(count_train)\n",
        "# global_batch_size\n",
        "train_zh2en = train_zh2en.batch(global_batch_size, drop_remainder=True)"
      ],
      "execution_count": 20,
      "outputs": []
    },
    {
      "cell_type": "code",
      "metadata": {
        "trusted": true,
        "id": "aQqbIdSEK5Ko",
        "colab_type": "code",
        "colab": {}
      },
      "source": [
        "val_zh2en =  tf.data.Dataset.from_tensor_slices((val_zh, val_en)).batch(global_batch_size)\n",
        "# 测试集逐句\n",
        "test_zh2en =  tf.data.Dataset.from_tensor_slices((test_zh, test_en))"
      ],
      "execution_count": 21,
      "outputs": []
    },
    {
      "cell_type": "code",
      "metadata": {
        "trusted": true,
        "id": "Fy_RhhR3K5Kq",
        "colab_type": "code",
        "colab": {}
      },
      "source": [
        "# 分布式数据集\n",
        "train_dataset_zh2en = tpu_strategy.experimental_distribute_dataset(train_zh2en)\n",
        "val_dataset_zh2en = tpu_strategy.experimental_distribute_dataset(val_zh2en)"
      ],
      "execution_count": 22,
      "outputs": []
    },
    {
      "cell_type": "markdown",
      "metadata": {
        "id": "nZciUCaf4s7F",
        "colab_type": "text"
      },
      "source": [
        "en2zh"
      ]
    },
    {
      "cell_type": "code",
      "metadata": {
        "trusted": true,
        "colab_type": "code",
        "id": "7gu7O9CO4JT7",
        "colab": {}
      },
      "source": [
        "train_en2zh =  tf.data.Dataset.from_tensor_slices((train_en, train_zh)).shuffle(count_train)\n",
        "# global_batch_size\n",
        "train_en2zh = train_en2zh.batch(global_batch_size, drop_remainder=True)"
      ],
      "execution_count": 23,
      "outputs": []
    },
    {
      "cell_type": "code",
      "metadata": {
        "id": "KqSVxbd24WOz",
        "colab_type": "code",
        "colab": {}
      },
      "source": [
        "val_en2zh =  tf.data.Dataset.from_tensor_slices((val_en, val_zh)).batch(global_batch_size)\n",
        "# 测试集逐句\n",
        "test_en2zh =  tf.data.Dataset.from_tensor_slices((test_en, test_zh))"
      ],
      "execution_count": 24,
      "outputs": []
    },
    {
      "cell_type": "code",
      "metadata": {
        "id": "WMVGNTmC4I55",
        "colab_type": "code",
        "colab": {}
      },
      "source": [
        "# 分布式数据集\n",
        "train_dataset_en2zh = tpu_strategy.experimental_distribute_dataset(train_en2zh)\n",
        "val_dataset_en2zh = tpu_strategy.experimental_distribute_dataset(val_en2zh)"
      ],
      "execution_count": 25,
      "outputs": []
    },
    {
      "cell_type": "markdown",
      "metadata": {
        "id": "pcHY5kATK5Kt",
        "colab_type": "text"
      },
      "source": [
        "# 构建模型"
      ]
    },
    {
      "cell_type": "code",
      "metadata": {
        "trusted": true,
        "id": "0Zxobbp6K5Kt",
        "colab_type": "code",
        "colab": {}
      },
      "source": [
        "vocab_size_zh = len(word2id_zh)\n",
        "vocab_size_en = len(word2id_en)\n",
        "\n",
        "steps_per_epoch = count_train//batch_size\n",
        "embedding_dim = 256\n",
        "units = 1024 # GRU隐层神经元数"
      ],
      "execution_count": 26,
      "outputs": []
    },
    {
      "cell_type": "markdown",
      "metadata": {
        "id": "fyXcXjfNK5Kv",
        "colab_type": "text"
      },
      "source": [
        "## 编码器"
      ]
    },
    {
      "cell_type": "code",
      "metadata": {
        "trusted": true,
        "id": "rJYh_T_0K5Kw",
        "colab_type": "code",
        "colab": {}
      },
      "source": [
        "class Encoder(tf.keras.Model):\n",
        "    def __init__(self, vocab_size, embedding_dim, enc_units, batch_sz):\n",
        "        '''\n",
        "        :vocab_size: 词汇数\n",
        "        :embedding_dim: 词嵌入维度\n",
        "        :enc_units: 编码器中GRU层的隐节点数\n",
        "        :batch_sz: 批大小\n",
        "        '''\n",
        "        super(Encoder, self).__init__()\n",
        "        self.batch_sz = batch_sz\n",
        "        self.enc_units = enc_units\n",
        "        '''\n",
        "        embedding output:（batch size, mxlen, embedding_dim）\n",
        "        gru output: (batch size, mxlen, enc_units)\n",
        "        '''\n",
        "        self.embedding = tf.keras.layers.Embedding(vocab_size, embedding_dim)\n",
        "        self.gru = tf.keras.layers.GRU(self.enc_units,\n",
        "                                       return_sequences=True,\n",
        "                                       return_state=True,\n",
        "                                       recurrent_initializer='glorot_uniform') #均匀分布\n",
        "    def call(self, x, hidden):\n",
        "        x = self.embedding(x)\n",
        "        # GRU输出和最后一个时间步的隐层状态\n",
        "        output, state = self.gru(x, initial_state = hidden) #初始状态张量列表\n",
        "        return output, state\n",
        "\n",
        "    def initialize_hidden_state(self):\n",
        "        # 隐节点零张量初始化\n",
        "        return tf.zeros((self.batch_sz, self.enc_units))"
      ],
      "execution_count": 27,
      "outputs": []
    },
    {
      "cell_type": "markdown",
      "metadata": {
        "id": "tZsR16n8K5Ky",
        "colab_type": "text"
      },
      "source": [
        "## 注意力机制"
      ]
    },
    {
      "cell_type": "code",
      "metadata": {
        "trusted": true,
        "id": "ZkJpYpRJK5Kz",
        "colab_type": "code",
        "colab": {}
      },
      "source": [
        "class BahdanauAttention(tf.keras.layers.Layer):\n",
        "    def __init__(self, units):\n",
        "        super(BahdanauAttention, self).__init__()\n",
        "        self.W1 = tf.keras.layers.Dense(units)\n",
        "        self.W2 = tf.keras.layers.Dense(units)\n",
        "        self.V = tf.keras.layers.Dense(1)\n",
        "\n",
        "    def call(self, query, values):\n",
        "        hidden_with_time_axis = tf.expand_dims(query, 1)\n",
        "        '''\n",
        "            :query为编码器的最后一时间步隐层状态：(batch size, enc_units)\n",
        "            :values为编码器的所有时间步的output: (batch size, mxlen, enc_units)\n",
        "\n",
        "            :拓展hidden维度, hidden_with_time_axis:（batch size，1，enc_units）\n",
        "        '''\n",
        "        \n",
        "        score = self.V(tf.nn.tanh(self.W1(values) + self.W2(hidden_with_time_axis)))\n",
        "        \n",
        "        '''\n",
        "            attention_weights：注意力系数\n",
        "            values:(batch size, mxlen, enc_units) ==>（batch size，mxlen，dense_units）\n",
        "            hidden: （batch size，1，enc_units） ==> (batch size，1，dense_units)\n",
        "            Broadcasting 机制张量相加 ==>（batch size，mxlen，dense_units）\n",
        "            \n",
        "            score，最后一个状态state 和 mxlen个时间步隐层输出output的相似度: Dense(1) ==> (batch size，mxlen，1)\n",
        "        '''\n",
        "\n",
        "        # 对 mxlen所在维度softmax，即计算 mxlen个时间步的各自概率。概率大意味着相关性更高\n",
        "        # ===> (batch size, mxlen, 1)\n",
        "        attention_weights = tf.nn.softmax(score, axis=1)\n",
        "\n",
        "        # 上下文向量 = 注意力权重 * 编码器隐层输出 【对各时间步的输出加权求和】\n",
        "        context_vector = attention_weights * values\n",
        "        \n",
        "        # (batch size, mxlen, enc_units) ==> reduce_sum ==> (batch size, enc_units)\n",
        "        # 即mxlen个时间步的对应神经元值相加（mxlen个值相加），最终去除时间步维度；为了得到神经元值\n",
        "        context_vector = tf.reduce_sum(context_vector, axis=1)\n",
        "\n",
        "        return context_vector, attention_weights"
      ],
      "execution_count": 28,
      "outputs": []
    },
    {
      "cell_type": "markdown",
      "metadata": {
        "id": "y5dgycskK5K1",
        "colab_type": "text"
      },
      "source": [
        "## 解码器"
      ]
    },
    {
      "cell_type": "code",
      "metadata": {
        "trusted": true,
        "id": "C3bMN-y-K5K1",
        "colab_type": "code",
        "colab": {}
      },
      "source": [
        "class Decoder(tf.keras.Model):\n",
        "    def __init__(self, vocab_size, embedding_dim, dec_units, batch_sz):\n",
        "        super(Decoder, self).__init__()\n",
        "        self.batch_sz = batch_sz\n",
        "        self.dec_units = dec_units\n",
        "        self.embedding = tf.keras.layers.Embedding(vocab_size, embedding_dim)\n",
        "        self.gru = tf.keras.layers.GRU(\n",
        "            self.dec_units, \n",
        "            return_sequences=True,\n",
        "            return_state=True, \n",
        "            recurrent_initializer='glorot_uniform')\n",
        "        self.fc = tf.keras.layers.Dense(vocab_size)\n",
        "\n",
        "        self.attention = BahdanauAttention(self.dec_units)\n",
        "\n",
        "    def call(self, x, hidden, enc_output):\n",
        "        # 使用上次隐层state计算注意力上下文，第一次使用编码器最后output\n",
        "        context_vector, attention_weights = self.attention(hidden, enc_output)\n",
        "        \n",
        "        # x : (batch_size, 1, embedding_dim)\n",
        "        x = self.embedding(x)\n",
        "\n",
        "        # 将上一解码预测结果x（fc后） 和上下文向量结合作为本次GRU输入\n",
        "        # (batch_size, 1, embedding_dim + enc_units)\n",
        "        x = tf.concat([tf.expand_dims(context_vector, 1), x], axis=-1)\n",
        "        \n",
        "        # output: (batch_size, 1, dec_units) 单个word预测\n",
        "        # state:  (batch_size, dec_units)\n",
        "        output, state = self.gru(x)\n",
        "\n",
        "        # (batch_size * 1, dec_units)\n",
        "        output = tf.reshape(output, (-1, output.shape[2])) # -1代表未知\n",
        "\n",
        "        # (batch_size, vocab_size)\n",
        "        x = self.fc(output)\n",
        "\n",
        "        return x, state, attention_weights\n"
      ],
      "execution_count": 29,
      "outputs": []
    },
    {
      "cell_type": "markdown",
      "metadata": {
        "id": "MVAkWiAPK5K3",
        "colab_type": "text"
      },
      "source": [
        "# 模型训练"
      ]
    },
    {
      "cell_type": "code",
      "metadata": {
        "trusted": true,
        "id": "NklrwzR9K5K4",
        "colab_type": "code",
        "colab": {}
      },
      "source": [
        "with tpu_strategy.scope():\n",
        "\n",
        "    # 中译英\n",
        "    encoder_zh2en = Encoder(vocab_size_zh, embedding_dim, units, batch_size)\n",
        "    decoder_zh2en = Decoder(vocab_size_en, embedding_dim, units, batch_size)\n",
        "\n",
        "    # 英译中\n",
        "    encoder_en2zh = Encoder(vocab_size_en, embedding_dim, units, batch_size)\n",
        "    decoder_en2zh = Decoder(vocab_size_zh, embedding_dim, units, batch_size)\n",
        "\n"
      ],
      "execution_count": 30,
      "outputs": []
    },
    {
      "cell_type": "code",
      "metadata": {
        "id": "buWwDkXDO6UP",
        "colab_type": "code",
        "colab": {}
      },
      "source": [
        "with tpu_strategy.scope():\n",
        "    # 优化器\n",
        "    optimizer = tf.keras.optimizers.Adam()\n",
        "\n",
        "    # 损失函数\n",
        "    loss_object = tf.keras.losses.SparseCategoricalCrossentropy(from_logits=True, reduction='none')\n",
        "    def loss_function(real, pred):\n",
        "        # real !=0 的返回 True\n",
        "        mask = tf.math.logical_not(tf.math.equal(real, 0)) \n",
        "        loss_ = loss_object(real, pred)\n",
        "        mask = tf.cast(mask, dtype=loss_.dtype) # cast类型转换\n",
        "        # mask为True，即real != 0时，loss不变；否则loss为0\n",
        "        loss_ *= mask\n",
        "        # return tf.reduce_mean(loss_)\n",
        "        return tf.nn.compute_average_loss(loss_, global_batch_size=global_batch_size)\n",
        "    \n",
        "    checkpoint_dir = './check'\n",
        "    checkpoint_prefix = os.path.join(checkpoint_dir, \"ckpt\")\n",
        "    checkpoint = tf.train.Checkpoint(optimizer=optimizer,\n",
        "                                     encoder=encoder_zh2en,\n",
        "                                     decoder=decoder_zh2en)"
      ],
      "execution_count": 31,
      "outputs": []
    },
    {
      "cell_type": "code",
      "metadata": {
        "id": "yDPghR_0R4yK",
        "colab_type": "code",
        "colab": {}
      },
      "source": [
        "with tpu_strategy.scope():\n",
        "    # 一次训练\n",
        "    def train_step(inp, targ, enc_hidden, zh2en = 1):\n",
        "        '''\n",
        "        inp: input sequence\n",
        "        targ: 翻译目标 sequence\n",
        "        enc_hidden: 编码器初始state\n",
        "\n",
        "        '''\n",
        "        if zh2en == 1:\n",
        "          encoder = encoder_zh2en\n",
        "          decoder = decoder_zh2en\n",
        "        else:\n",
        "          encoder = encoder_en2zh\n",
        "          decoder = decoder_en2zh\n",
        "\n",
        "        with tf.GradientTape() as tape:\n",
        "            enc_output, enc_hidden = encoder(inp, enc_hidden)\n",
        "            # 编码器最后一个隐层state作为解码器第一个隐层state\n",
        "            dec_hidden = enc_hidden\n",
        "            \n",
        "            # 起始字符<s>\n",
        "            # (batch_size, 1)\n",
        "            dec_input = tf.expand_dims([word2id_zh['<s>']] * batch_size, 1)\n",
        "            \n",
        "            \n",
        "            # 教师强制，将目标词作为下一个输入\n",
        "            for t in range(1,targ.shape[1]):\n",
        "                # x, state, attention_weights\n",
        "                pre, dec_hidden, _ = decoder(dec_input, dec_hidden, enc_output)\n",
        "                if t == 1:\n",
        "                  loss = loss_function(targ[:, t], pre)\n",
        "                loss += loss_function(targ[:, t], pre)\n",
        "                \n",
        "                # 在训练时，每次解码器的输入并不是上次解码器的输出，而是样本目标语言对应单词\n",
        "                dec_input = tf.expand_dims(targ[:, t], 1)\n",
        "\n",
        "            # 所有单词的平均损失值\n",
        "            # targ.shape[1] = 60或40\n",
        "            batch_loss = loss / targ.shape[1]\n",
        "\n",
        "            # 模型变量包括编码器和解码器\n",
        "            variables = encoder.trainable_variables + decoder.trainable_variables\n",
        "\n",
        "            # 计算损失函数关于自变量（模型参数）的梯度\n",
        "            gradients = tape.gradient(loss, variables)\n",
        "            # 根据梯度更新参数\n",
        "            optimizer.apply_gradients(zip(gradients, variables))\n",
        "\n",
        "        return batch_loss\n",
        "\n",
        "    # 一次验证\n",
        "    def val_step(inp, targ, enc_hidden, zh2en = 1):\n",
        "        if zh2en == 1:\n",
        "            encoder = encoder_zh2en\n",
        "            decoder = decoder_zh2en\n",
        "        else:\n",
        "            encoder = encoder_en2zh\n",
        "            decoder = decoder_en2zh\n",
        "\n",
        "        enc_output, enc_hidden = encoder(inp, enc_hidden)\n",
        "        dec_hidden = enc_hidden\n",
        "        # <s> 在两个词汇表索引相同\n",
        "        dec_input = tf.expand_dims([word2id_zh['<s>']] * batch_size, 1)\n",
        "\n",
        "        # 非教师强制\n",
        "        for t in range(1,targ.shape[1]):\n",
        "            pre, dec_hidden, _ = decoder(dec_input, dec_hidden, enc_output)\n",
        "\n",
        "            if t == 1:\n",
        "              loss = loss_function(targ[:, t], pre)\n",
        "            loss += loss_function(targ[:, t], pre)\n",
        "            \n",
        "            pre_argmax = tf.argmax(pre, axis = 1)\n",
        "            dec_input = tf.expand_dims(pre_argmax, 1)\n",
        "\n",
        "        # 所有单词的平均损失值\n",
        "        batch_loss = loss/targ.shape[1]\n",
        "        return batch_loss\n",
        "\n",
        "    \n",
        "    # TPU\n",
        "    # tf.distribute.ReduceOp.SUM 将各节点放缩损失相加\n",
        "    @tf.function\n",
        "    def distributed_train_step(inp, targ, enc_hidden, zh2en):\n",
        "        assert tf.distribute.get_replica_context() is None\n",
        "        per_replica_losses = tpu_strategy.experimental_run_v2(train_step, args=(inp, targ, enc_hidden))\n",
        "        return tpu_strategy.reduce(tf.distribute.ReduceOp.SUM, per_replica_losses,axis=None)\n",
        "\n",
        "    @tf.function\n",
        "    def distributed_val_step(inp, targ, enc_hidden, zh2en):\n",
        "        assert tf.distribute.get_replica_context() is None\n",
        "        per_replica_losses = tpu_strategy.experimental_run_v2(val_step, args=(inp, targ, enc_hidden))\n",
        "        return tpu_strategy.reduce(tf.distribute.ReduceOp.SUM, per_replica_losses,axis=None)"
      ],
      "execution_count": 32,
      "outputs": []
    },
    {
      "cell_type": "code",
      "metadata": {
        "trusted": true,
        "id": "YvSg-vFfK5K6",
        "colab_type": "code",
        "colab": {}
      },
      "source": [
        "with tpu_strategy.scope():\n",
        "    # 批训练\n",
        "    def training(zh2en):\n",
        "        if zh2en == 1:\n",
        "            encoder = encoder_zh2en\n",
        "            decoder = decoder_zh2en\n",
        "            train_dataset = train_dataset_zh2en\n",
        "            val_dataset = val_dataset_zh2en\n",
        "        else:\n",
        "            encoder = encoder_en2zh\n",
        "            decoder = decoder_en2zh\n",
        "            train_dataset = train_dataset_en2zh\n",
        "            val_dataset = val_dataset_en2zh\n",
        "\n",
        "        EPOCHS = 15\n",
        "\n",
        "        print('Start Time {}\\n'.format(time.strftime(\"%Y-%m-%d %H:%M:%S\", time.localtime())))\n",
        "        for epoch in range(EPOCHS):\n",
        "            start = time.time()\n",
        "            # 初始化隐藏层和损失值\n",
        "            enc_hidden = encoder.initialize_hidden_state()\n",
        "            total_loss = 0.0\n",
        "\n",
        "            num_batch = 0\n",
        "            for inputs in train_dataset:\n",
        "                inp, targ = inputs\n",
        "                batch_loss = distributed_train_step(inp, targ, enc_hidden, zh2en)\n",
        "                total_loss += batch_loss\n",
        "\n",
        "                # 每50次验证集测试,并显示模型损失值\n",
        "                if num_batch % 50 == 0:\n",
        "                    total_val_loss = 0.0\n",
        "                    for x in val_dataset:\n",
        "                        inp_val, targ_val = x\n",
        "                        val_loss = distributed_val_step(inp, targ, enc_hidden, zh2en)\n",
        "                        total_val_loss += val_loss\n",
        "\n",
        "                    print('Epoch {} Batch {} Training Loss {:.4f}. Validation Loss {:.4f}.'.format(\n",
        "                                                                epoch + 1,\n",
        "                                                                num_batch,\n",
        "                                                                batch_loss,\n",
        "                                                                val_loss))\n",
        "\n",
        "                num_batch += 1\n",
        "                \n",
        "            # 每次迭代保存一次数据\n",
        "            # checkpoint.save(file_prefix=checkpoint_prefix)\n",
        "\n",
        "            # 显示每次迭代的损失值和消耗时间\n",
        "            print('Epoch {} Average  Training Loss {:.4f}. Time {} sec.\\n'.format(epoch + 1,\n",
        "                                                total_loss / num_batch,\n",
        "                                                time.time() - start))\n"
      ],
      "execution_count": 33,
      "outputs": []
    },
    {
      "cell_type": "code",
      "metadata": {
        "trusted": true,
        "id": "vjhuJ3hNK5K8",
        "colab_type": "code",
        "colab": {
          "base_uri": "https://localhost:8080/",
          "height": 178
        },
        "outputId": "bffcc62a-9bd2-4e71-f890-089afab81f73"
      },
      "source": [
        "with tpu_strategy.scope():\n",
        "    training(1)"
      ],
      "execution_count": null,
      "outputs": [
        {
          "output_type": "stream",
          "text": [
            "Start Time 2020-07-13 08:11:38\n",
            "\n",
            "WARNING:tensorflow:From <ipython-input-32-664cc412d61a>:87: StrategyBase.experimental_run_v2 (from tensorflow.python.distribute.distribute_lib) is deprecated and will be removed in a future version.\n",
            "Instructions for updating:\n",
            "renamed to `run`\n"
          ],
          "name": "stdout"
        },
        {
          "output_type": "stream",
          "text": [
            "WARNING:tensorflow:From <ipython-input-32-664cc412d61a>:87: StrategyBase.experimental_run_v2 (from tensorflow.python.distribute.distribute_lib) is deprecated and will be removed in a future version.\n",
            "Instructions for updating:\n",
            "renamed to `run`\n"
          ],
          "name": "stderr"
        }
      ]
    },
    {
      "cell_type": "code",
      "metadata": {
        "trusted": true,
        "id": "Vrx7XpsJK5K-",
        "colab_type": "code",
        "colab": {}
      },
      "source": [
        "with tpu_strategy.scope():\n",
        "  from nltk.translate.bleu_score import sentence_bleu\n",
        "  import math\n",
        "  # 测试单句\n",
        "  def test_step(inp, targ, zh2en = 1):\n",
        "      if zh2en == 1:\n",
        "            encoder = encoder_zh2en\n",
        "            decoder = decoder_zh2en\n",
        "\n",
        "            # 目标\n",
        "            reference = [[id2word_en[x] for x in targ.numpy() if x != 0 and x != 2]]\n",
        "            # 原句\n",
        "            sentence = [id2word_zh[x] for x in inp.numpy() if x != 0]\n",
        "            # 注意力图 (result,sentence)\n",
        "            attention_plot = np.zeros((max_len_en, max_len_zh))\n",
        "\n",
        "            id2word = id2word_en\n",
        "      else:\n",
        "            encoder = encoder_en2zh\n",
        "            decoder = decoder_en2zh\n",
        "            reference = [[id2word_zh[x] for x in targ.numpy() if x != 0 and x != 2]]\n",
        "            sentence = [id2word_en[x] for x in inp.numpy() if x != 0]\n",
        "            attention_plot = np.zeros((max_len_zh, max_len_en))\n",
        "            id2word = id2word_zh\n",
        "\n",
        "      \n",
        "      \n",
        "      # 翻译结果\n",
        "      result = []\n",
        "\n",
        "      # No Batch\n",
        "      hidden = [tf.zeros((1, units))]\n",
        "      inputs = tf.expand_dims(inp, 0)\n",
        "\n",
        "      enc_output, enc_hidden = encoder(inputs, hidden)\n",
        "      dec_hidden = enc_hidden\n",
        "      dec_input = tf.expand_dims([word2id_zh['<s>']], 0)\n",
        "      result.append('<s>')\n",
        "\n",
        "      # 非教师强制\n",
        "      for t in range(targ.shape[0]):\n",
        "        pre, dec_hidden, attention_weights = decoder(dec_input, dec_hidden, enc_output)\n",
        "        # 保留注意力权重用于绘制注意力图\n",
        "        attention_weights = tf.reshape(attention_weights, (-1, ))\n",
        "        attention_plot[t] = attention_weights.numpy()\n",
        "        \n",
        "        # 预测值对应字符记录在result\n",
        "        pre_id = tf.argmax(pre[0]).numpy()\n",
        "        if pre_id != 2 and pre_id != 0:\n",
        "          result.append(id2word[pre_id])\n",
        "        else:\n",
        "          break\n",
        "\n",
        "        # 将上次预测值作为下次输入\n",
        "        dec_input = tf.expand_dims([pre_id], 0)\n",
        "\n",
        "      bleu_1 = sentence_bleu(reference, result, weights=(1, 0, 0, 0))\n",
        "      bleu_2 = sentence_bleu(reference, result, weights=(0, 1, 0, 0))\n",
        "      bleu_3 = sentence_bleu(reference, result, weights=(0, 0, 1, 0))\n",
        "      bleu_4 = sentence_bleu(reference, result, weights=(0, 0, 0, 1))\n",
        "      bleu = math.exp(bleu_1 + bleu_2 + bleu_3 + bleu_4)\n",
        "\n",
        "      return result, sentence, reference, bleu, attention_plot"
      ],
      "execution_count": null,
      "outputs": []
    },
    {
      "cell_type": "code",
      "metadata": {
        "id": "sUyqm2CdFqiX",
        "colab_type": "code",
        "colab": {}
      },
      "source": [
        "# # 下载--解压--移动字体文件\n",
        "# !wget \"https://www.wfonts.com/download/data/2014/06/01/simhei/simhei.zip\"\n",
        "# !unzip \"simhei.zip\"\n",
        "# !rm \"simhei.zip\"\n",
        "# !mv SimHei.ttf /usr/share/fonts/truetype/"
      ],
      "execution_count": null,
      "outputs": []
    },
    {
      "cell_type": "code",
      "metadata": {
        "trusted": true,
        "id": "JX3qayrQK5LA",
        "colab_type": "code",
        "colab": {}
      },
      "source": [
        "with tpu_strategy.scope():\n",
        "  import matplotlib.ticker as ticker\n",
        "  import matplotlib.font_manager as fm\n",
        "  path = '/usr/share/fonts/truetype/SimHei.ttf'\n",
        "  fontprop = fm.FontProperties(fname=path, size=14)\n",
        "\n",
        "  # 绘制注意力图\n",
        "  def plot_attention(attention, sentence, predicted_sentence):\n",
        "      fig = plt.figure(figsize=(len(sentence)/3,len(predicted_sentence)/3))\n",
        "      ax = fig.add_subplot(1, 1, 1)\n",
        "      ax.matshow(attention, cmap='viridis')\n",
        "\n",
        "\n",
        "      ax.set_xticklabels([''] + sentence, rotation=90, fontproperties=fontprop)\n",
        "      ax.set_yticklabels([''] + predicted_sentence, fontproperties=fontprop)\n",
        "\n",
        "      ax.xaxis.set_major_locator(ticker.MultipleLocator(1))\n",
        "      ax.yaxis.set_major_locator(ticker.MultipleLocator(1))\n",
        "      plt.tight_layout()\n",
        "      plt.show()"
      ],
      "execution_count": null,
      "outputs": []
    },
    {
      "cell_type": "code",
      "metadata": {
        "trusted": true,
        "id": "Nh3XjjyPK5LD",
        "colab_type": "code",
        "colab": {}
      },
      "source": [
        "with tpu_strategy.scope():\n",
        "  bleus = []\n",
        "  print('中译英')\n",
        "  for _, (inp, targ) in enumerate(test_zh2en.take(5)):\n",
        "    res, sent, tar, bleu, atten = test_step(inp, targ, zh2en = 1)\n",
        "    bleus.append(bleu)\n",
        "    print('原句：',sent)\n",
        "    print('目标：',tar[0])\n",
        "    print('结果：',res[1:])\n",
        "    print('BLEU：',bleu)\n",
        "    plot_attention(atten[:len(res[1:]), :len(sent)], sent, res[1:])\n",
        "  print(bleus)\n",
        "  # plot_attention(attentions[0][:len(results[0]), :len(sentences[0])], sentences[0], results[0])"
      ],
      "execution_count": null,
      "outputs": []
    }
  ]
}